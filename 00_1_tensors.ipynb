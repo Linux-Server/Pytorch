{
 "cells": [
  {
   "cell_type": "code",
   "execution_count": 1,
   "metadata": {},
   "outputs": [],
   "source": [
    "# Pytorch is an opens ource ml  and deep learning framework\n",
    "# its awllow us to manipulate and process data and write ml algos\n",
    "# pytorch take care of many things , such as gpu accelaration( making your cod wrun faster)"
   ]
  },
  {
   "cell_type": "code",
   "execution_count": 2,
   "metadata": {},
   "outputs": [],
   "source": [
    "# Tensors - \n",
    "# tensors re the basic building blocks of all ml and dl models\n",
    "# tensors can represent almost all kinds of data, tables,images,words, etc\n",
    "# if u can convert anything into tensor, u can do the vice versa\n",
    "# many ml algos like neural networks add,multply and combine tensors\n",
    "# tensors have multple dimensions\n",
    " \n",
    " # Issue with tensors\n",
    " # c combining wrong tensor shape\n",
    " \n",
    "# Mixing or tensors:\n",
    "# pytorch tensors (torch.Tensor) can be mixed with numpy arrays (np.ndarray)\n"
   ]
  },
  {
   "cell_type": "code",
   "execution_count": 3,
   "metadata": {},
   "outputs": [
    {
     "data": {
      "text/plain": [
       "'2.5.1'"
      ]
     },
     "execution_count": 3,
     "metadata": {},
     "output_type": "execute_result"
    }
   ],
   "source": [
    "# check the version of pytorch\n",
    "import torch\n",
    "\n",
    "torch.__version__"
   ]
  },
  {
   "cell_type": "code",
   "execution_count": 4,
   "metadata": {},
   "outputs": [
    {
     "name": "stdout",
     "output_type": "stream",
     "text": [
      "The value of scalar is :  tensor(10)\n",
      "Check the dimension of scalar :  0\n",
      "The value of scalar is :  10\n"
     ]
    }
   ],
   "source": [
    "# Scalar:\n",
    "# scalar is a single number\n",
    "# In tersor world, its a zero dimensional tensor\n",
    "\n",
    "scalar = torch.tensor(10)\n",
    "print(\"The value of scalar is : \", scalar) # tensor(10) , its a type of torch.Tensor\n",
    "print(\"Check the dimension of scalar : \", scalar.ndim) # 0\n",
    "\n",
    "# What if want to return the scalar value out of tensor, like a python integer\n",
    "# use the item() method\n",
    "\n",
    "num = scalar.item()\n",
    "print(\"The value of scalar is : \", num)\n"
   ]
  },
  {
   "cell_type": "code",
   "execution_count": 5,
   "metadata": {},
   "outputs": [
    {
     "name": "stdout",
     "output_type": "stream",
     "text": [
      "The dimension of vector is :  1\n",
      "The shape of the vector is :  torch.Size([5])\n"
     ]
    }
   ],
   "source": [
    "# Vector\n",
    "# vector is an arry of numbers, which have single dimension\n",
    "# In tensor world, its a one dimensional tensor\n",
    "vector = torch.tensor([10,20,30,40,50])\n",
    "\n",
    "print(\"The dimension of vector is : \", vector.ndim) # 1\n",
    "print(\"The shape of the vector is : \", vector.shape)"
   ]
  },
  {
   "cell_type": "code",
   "execution_count": 9,
   "metadata": {},
   "outputs": [
    {
     "name": "stdout",
     "output_type": "stream",
     "text": [
      "2\n",
      "Shape of the matrix is :  torch.Size([2, 3])\n"
     ]
    }
   ],
   "source": [
    "# MATRIX\n",
    "MATRIX = torch.tensor([[7,8,5], [9,10,3]])\n",
    "\n",
    "print(MATRIX.ndim)\n",
    "print(\"Shape of the matrix is : \", MATRIX.shape)"
   ]
  },
  {
   "cell_type": "code",
   "execution_count": 11,
   "metadata": {},
   "outputs": [
    {
     "data": {
      "text/plain": [
       "tensor([[[1, 2, 3],\n",
       "         [3, 6, 9],\n",
       "         [2, 4, 5]]])"
      ]
     },
     "execution_count": 11,
     "metadata": {},
     "output_type": "execute_result"
    }
   ],
   "source": [
    "# Tensor\n",
    "TENSOR = torch.tensor([[[1, 2, 3],\n",
    "                        [3, 6, 9],\n",
    "                        [2, 4, 5]]])\n",
    "TENSOR"
   ]
  },
  {
   "cell_type": "code",
   "execution_count": 13,
   "metadata": {},
   "outputs": [
    {
     "name": "stdout",
     "output_type": "stream",
     "text": [
      "The shape of the tensor is :  torch.Size([1, 3, 3])\n"
     ]
    }
   ],
   "source": [
    "TENSOR.ndim\n",
    "\n",
    "print(\"The shape of the tensor is : \", TENSOR.shape)"
   ]
  },
  {
   "cell_type": "code",
   "execution_count": null,
   "metadata": {},
   "outputs": [],
   "source": []
  }
 ],
 "metadata": {
  "kernelspec": {
   "display_name": "venv-pytorch",
   "language": "python",
   "name": "python3"
  },
  "language_info": {
   "codemirror_mode": {
    "name": "ipython",
    "version": 3
   },
   "file_extension": ".py",
   "mimetype": "text/x-python",
   "name": "python",
   "nbconvert_exporter": "python",
   "pygments_lexer": "ipython3",
   "version": "3.12.5"
  }
 },
 "nbformat": 4,
 "nbformat_minor": 2
}
