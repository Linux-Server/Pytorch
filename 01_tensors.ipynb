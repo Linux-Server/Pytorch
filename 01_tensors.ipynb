{
 "cells": [
  {
   "cell_type": "code",
   "execution_count": null,
   "metadata": {},
   "outputs": [],
   "source": [
    "# Pytorch is an opens ource ml  and deep learning framework\n",
    "# its awllow us to manipulate and process data and write ml algos\n",
    "# pytorch take care of manu things , such as gpu accelaration( making your cod wrun faster)"
   ]
  },
  {
   "cell_type": "code",
   "execution_count": 3,
   "metadata": {},
   "outputs": [],
   "source": [
    "# Tensors - \n",
    "# tensors re the basic building blocks of all ml and dl models\n",
    "# tensors can represent almost all kinds of data, tables,images,words, etc\n",
    "# if u can convert anything into tensor, u can do the vice versa\n",
    "# many ml algos like neural networks add,multply and combine tensors\n",
    "# tensors have multple dimensions\n",
    " \n",
    " # Issue with tensors\n",
    " # c combining wrong tensor shape\n",
    " \n",
    "# Mixing or tensors:\n",
    "# pytorch tensors (torch.Tensor) can be mixed with numpy arrays (np.ndarray)\n"
   ]
  },
  {
   "cell_type": "code",
   "execution_count": 5,
   "metadata": {},
   "outputs": [
    {
     "data": {
      "text/plain": [
       "'2.5.1'"
      ]
     },
     "execution_count": 5,
     "metadata": {},
     "output_type": "execute_result"
    }
   ],
   "source": [
    "# check the version of pytorch\n",
    "import torch\n",
    "\n",
    "torch.__version__"
   ]
  },
  {
   "cell_type": "code",
   "execution_count": 10,
   "metadata": {},
   "outputs": [
    {
     "name": "stdout",
     "output_type": "stream",
     "text": [
      "The value of scalar is :  tensor(10)\n",
      "Check the dimension of scalar :  0\n",
      "The value of scalar is :  10\n"
     ]
    }
   ],
   "source": [
    "# Scalar:\n",
    "# scalar is a single number\n",
    "# In tersor world, its a zero dimensional tensor\n",
    "\n",
    "scalar = torch.tensor(10)\n",
    "print(\"The value of scalar is : \", scalar) # tensor(10) , its a type of torch.Tensor\n",
    "print(\"Check the dimension of scalar : \", scalar.ndim) # 0\n",
    "\n",
    "# What if want to return the scalar value out of tensor, like a python integer\n",
    "# use the item() method\n",
    "\n",
    "num = scalar.item()\n",
    "print(\"The value of scalar is : \", num)\n"
   ]
  },
  {
   "cell_type": "code",
   "execution_count": 12,
   "metadata": {},
   "outputs": [
    {
     "name": "stdout",
     "output_type": "stream",
     "text": [
      "The dimension of vector is :  1\n",
      "The shape of the vector is :  torch.Size([5])\n"
     ]
    }
   ],
   "source": [
    "# Vector\n",
    "# vector is an arry of numbers, which have single dimension\n",
    "# In tensor world, its a one dimensional tensor\n",
    "vector = torch.tensor([10,20,30,40,50])\n",
    "\n",
    "print(\"The dimension of vector is : \", vector.ndim) # 1\n",
    "print(\"The shape of the vector is : \", vector.shape)"
   ]
  },
  {
   "cell_type": "code",
   "execution_count": 17,
   "metadata": {},
   "outputs": [
    {
     "ename": "RuntimeError",
     "evalue": "a Tensor with 10 elements cannot be converted to Scalar",
     "output_type": "error",
     "traceback": [
      "\u001b[0;31m---------------------------------------------------------------------------\u001b[0m",
      "\u001b[0;31mRuntimeError\u001b[0m                              Traceback (most recent call last)",
      "Cell \u001b[0;32mIn[17], line 1\u001b[0m\n\u001b[0;32m----> 1\u001b[0m \u001b[43mvector\u001b[49m\u001b[38;5;241;43m.\u001b[39;49m\u001b[43mitem\u001b[49m\u001b[43m(\u001b[49m\u001b[43m)\u001b[49m\n",
      "\u001b[0;31mRuntimeError\u001b[0m: a Tensor with 10 elements cannot be converted to Scalar"
     ]
    }
   ],
   "source": [
    "vector."
   ]
  },
  {
   "cell_type": "code",
   "execution_count": null,
   "metadata": {},
   "outputs": [],
   "source": []
  }
 ],
 "metadata": {
  "kernelspec": {
   "display_name": "venv-pytorch",
   "language": "python",
   "name": "python3"
  },
  "language_info": {
   "codemirror_mode": {
    "name": "ipython",
    "version": 3
   },
   "file_extension": ".py",
   "mimetype": "text/x-python",
   "name": "python",
   "nbconvert_exporter": "python",
   "pygments_lexer": "ipython3",
   "version": "3.12.5"
  }
 },
 "nbformat": 4,
 "nbformat_minor": 2
}
